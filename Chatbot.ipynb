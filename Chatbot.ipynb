{
  "nbformat": 4,
  "nbformat_minor": 0,
  "metadata": {
    "colab": {
      "provenance": [],
      "authorship_tag": "ABX9TyNbmMbPD4BsjqVlcQDmBQu/",
      "include_colab_link": true
    },
    "kernelspec": {
      "name": "python3",
      "display_name": "Python 3"
    },
    "language_info": {
      "name": "python"
    }
  },
  "cells": [
    {
      "cell_type": "markdown",
      "metadata": {
        "id": "view-in-github",
        "colab_type": "text"
      },
      "source": [
        "<a href=\"https://colab.research.google.com/github/marcoss00/imersao-IA-alura/blob/master/Chatbot.ipynb\" target=\"_parent\"><img src=\"https://colab.research.google.com/assets/colab-badge.svg\" alt=\"Open In Colab\"/></a>"
      ]
    },
    {
      "cell_type": "markdown",
      "source": [
        "# Chatbot com API do Gemini"
      ],
      "metadata": {
        "id": "R2wWwWG5OItC"
      }
    },
    {
      "cell_type": "code",
      "execution_count": 1,
      "metadata": {
        "id": "xkcdyrv4I5nv"
      },
      "outputs": [],
      "source": [
        "# Instala a biblioteca google-generativeai se não estiver instalada\n",
        "!pip install -q -U google-generativeai"
      ]
    },
    {
      "cell_type": "code",
      "source": [
        "# Importa a biblioteca para interagir com a API do Gemini\n",
        "import google.generativeai as genai\n",
        "\n",
        "# Define a chave API do Google Cloud\n",
        "GOOGLE_API_KEY = '***************************************' # Substitua pela sua chave API\n",
        "# Configura a API do Gemini com a chave API\n",
        "genai.configure(api_key=GOOGLE_API_KEY)"
      ],
      "metadata": {
        "id": "D73FqyKFuqME"
      },
      "execution_count": 1,
      "outputs": []
    },
    {
      "cell_type": "code",
      "source": [
        "# Lista os modelos disponíveis que suportam geração de conteúdo\n",
        "for m in genai.list_models():\n",
        "  if 'generateContent' in m.supported_generation_methods:\n",
        "    print(m.name)"
      ],
      "metadata": {
        "colab": {
          "base_uri": "https://localhost:8080/",
          "height": 225
        },
        "id": "9H5wAUOlvI-d",
        "outputId": "5c6aba64-04fc-4081-caa9-30afddbeafd1"
      },
      "execution_count": 2,
      "outputs": [
        {
          "output_type": "stream",
          "name": "stdout",
          "text": [
            "models/gemini-1.0-pro\n",
            "models/gemini-1.0-pro-001\n",
            "models/gemini-1.0-pro-latest\n",
            "models/gemini-1.0-pro-vision-latest\n",
            "models/gemini-1.5-flash\n",
            "models/gemini-1.5-flash-001\n",
            "models/gemini-1.5-flash-latest\n",
            "models/gemini-1.5-pro\n",
            "models/gemini-1.5-pro-001\n",
            "models/gemini-1.5-pro-latest\n",
            "models/gemini-pro\n",
            "models/gemini-pro-vision\n"
          ]
        }
      ]
    },
    {
      "cell_type": "code",
      "source": [
        "# Define as configurações de geração de texto\n",
        "generation_config = {\n",
        "    'candidate_count': 1, # Número de respostas candidatas\n",
        "    'temperature': 0.5, # Nível de criatividade (0-1)\n",
        "}\n",
        "\n",
        "# Define as configurações de segurança para bloquear respostas ofensivas\n",
        "safety_settings = {\n",
        "    'HARASSMENT': 'BLOCK_NONE',\n",
        "    'HATE': 'BLOCK_NONE',\n",
        "    'SEXUAL': 'BLOCK_NONE',\n",
        "    'DANGEROUS': 'BLOCK_NONE'\n",
        "}"
      ],
      "metadata": {
        "id": "MuAQnOeb2Elz"
      },
      "execution_count": 14,
      "outputs": []
    },
    {
      "cell_type": "code",
      "source": [
        "# Cria uma instância do modelo Gemini-1.5-pro com as configurações definidas\n",
        "model = genai.GenerativeModel(model_name='gemini-1.5-pro',\n",
        "                              generation_config=generation_config,\n",
        "                              safety_settings=safety_settings)"
      ],
      "metadata": {
        "id": "MuK8irlC3cZP"
      },
      "execution_count": 15,
      "outputs": []
    },
    {
      "cell_type": "code",
      "source": [
        "# Gera uma resposta para a pergunta \"quem é você?\"\n",
        "response = model.generate_content('quem é você?')\n",
        "print(response.text)"
      ],
      "metadata": {
        "colab": {
          "base_uri": "https://localhost:8080/",
          "height": 141
        },
        "id": "YSsIzB0S9cO4",
        "outputId": "b5089064-6202-4b90-df8d-bfcd148c3ea8"
      },
      "execution_count": 16,
      "outputs": [
        {
          "output_type": "stream",
          "name": "stdout",
          "text": [
            "Eu sou um modelo de linguagem grande, treinado pelo Google. \n",
            "\n",
            "Isso significa que sou um sistema de inteligência artificial que foi alimentado com uma quantidade enorme de texto. Com base nesse treinamento, posso gerar texto, traduzir idiomas, escrever diferentes tipos de conteúdo criativo e responder às suas perguntas de forma informativa. \n",
            "\n",
            "Em resumo, estou aqui para ajudar você a encontrar informações e realizar tarefas usando a linguagem. O que você gostaria de fazer hoje? \n",
            "\n"
          ]
        }
      ]
    },
    {
      "cell_type": "code",
      "source": [
        "# Inicia uma sessão de conversa e armazena o histórico de mensagens\n",
        "chat = model.start_chat(history=[])"
      ],
      "metadata": {
        "id": "cRCpT1qy-LfR"
      },
      "execution_count": 17,
      "outputs": []
    },
    {
      "cell_type": "code",
      "source": [
        "# Loop para interagir com o chatbot\n",
        "prompt = input('Esperando prompt: ')\n",
        "\n",
        "while prompt != 'fim':\n",
        "  # Envia a mensagem do usuário para o chatbot e recebe a resposta\n",
        "  response = chat.send_message(prompt)\n",
        "  print('Resposta: ', response.text, '\\n')\n",
        "  prompt = input('Esperando prompt: ')"
      ],
      "metadata": {
        "colab": {
          "base_uri": "https://localhost:8080/",
          "height": 520
        },
        "id": "TpLmd9X3-dzp",
        "outputId": "8768ae25-b074-42d6-f568-d85254d0dac5"
      },
      "execution_count": 19,
      "outputs": [
        {
          "name": "stdout",
          "output_type": "stream",
          "text": [
            "Esperando prompt: Qual a capital do Pará?\n",
            "Resposta:  A capital do Pará é **Belém**. \n",
            " \n",
            "\n",
            "Esperando prompt: Qual a comida típica desse estado?\n",
            "Resposta:  O Pará tem uma culinária rica e diversa, influenciada por indígenas, portugueses e africanos. É difícil escolher apenas uma comida típica, mas algumas das mais famosas e deliciosas são:\n",
            "\n",
            "**Pratos Principais:**\n",
            "\n",
            "* **Pato no Tucupi:**  Considerado o prato mais famoso, leva pato cozido em tucupi (caldo extraído da mandioca brava), jambu (erva amazônica que causa leve dormência na boca) e temperos.\n",
            "* **Maniçoba:** Cozido de folhas de mandioca moídas, acompanhado de carnes, embutidos e servido com arroz branco. É um prato tradicionalmente servido no Círio de Nazaré.\n",
            "* **Tacacá:** Caldo quente feito com tucupi, goma de tapioca (goma de mandioca), camarão seco e jambu. Servido em cuias.\n",
            "\n",
            "**Petiscos e Acompanhamentos:**\n",
            "\n",
            "* **Farinha d'água:** Farinha de mandioca fina e úmida, usada para acompanhar diversos pratos.\n",
            "* **Vatapá paraense:**  Feito com pão amanhecido, camarão seco, leite de coco, azeite de dendê e temperos. \n",
            "* **Caranguejo:** Consumido de diversas formas, como no \"caranguejo tucupi\" ou simplesmente cozido e temperado.\n",
            "\n",
            "**Doces:**\n",
            "\n",
            "* **Doce de Cupuaçu:** Fruta típica da região, o cupuaçu é usado em doces, sucos e sorvetes.\n",
            "* **Doce de Bacuri:** Outra fruta regional, o bacuri tem sabor marcante e é usado em diversas sobremesas.\n",
            "* **Bombocado:** Bolo feito com coco ralado, leite de coco, açúcar e manteiga.\n",
            "\n",
            "Experimente essas delícias e explore a culinária paraense! 🇧🇷😋 \n",
            " \n",
            "\n",
            "Esperando prompt: fim\n"
          ]
        }
      ]
    },
    {
      "cell_type": "code",
      "source": [
        "# Exibe a sessão de conversa\n",
        "chat"
      ],
      "metadata": {
        "colab": {
          "base_uri": "https://localhost:8080/"
        },
        "id": "9SdIWaytIvKi",
        "outputId": "3bf0e2f0-6337-4f24-8c9b-ee5ab743b4cb"
      },
      "execution_count": 22,
      "outputs": [
        {
          "output_type": "execute_result",
          "data": {
            "text/plain": [
              "ChatSession(\n",
              "    model=genai.GenerativeModel(\n",
              "        model_name='models/gemini-1.5-pro',\n",
              "        generation_config={'candidate_count': 1, 'temperature': 0.5},\n",
              "        safety_settings={<HarmCategory.HARM_CATEGORY_HARASSMENT: 7>: <HarmBlockThreshold.BLOCK_NONE: 4>, <HarmCategory.HARM_CATEGORY_HATE_SPEECH: 8>: <HarmBlockThreshold.BLOCK_NONE: 4>, <HarmCategory.HARM_CATEGORY_SEXUALLY_EXPLICIT: 9>: <HarmBlockThreshold.BLOCK_NONE: 4>, <HarmCategory.HARM_CATEGORY_DANGEROUS_CONTENT: 10>: <HarmBlockThreshold.BLOCK_NONE: 4>},\n",
              "        tools=None,\n",
              "        system_instruction=None,\n",
              "    ),\n",
              "    history=[glm.Content({'parts': [{'text': 'Qual a capital do Pará?'}], 'role': 'user'}), glm.Content({'parts': [{'text': 'A capital do...**Belém**. \\n'}], 'role': 'model'}), glm.Content({'parts': [{'text': 'Qual a comid...desse estado?'}], 'role': 'user'}), glm.Content({'parts': [{'text': 'O Pará tem u...aense! 🇧🇷😋 \\n'}], 'role': 'model'})]\n",
              ")"
            ]
          },
          "metadata": {},
          "execution_count": 22
        }
      ]
    },
    {
      "cell_type": "code",
      "source": [
        "# Exibe o histórico da conversa\n",
        "chat.history"
      ],
      "metadata": {
        "colab": {
          "base_uri": "https://localhost:8080/"
        },
        "id": "oeFfsxKRLAyv",
        "outputId": "55de5025-729c-4da3-a830-b043ee8c94e1"
      },
      "execution_count": 23,
      "outputs": [
        {
          "output_type": "execute_result",
          "data": {
            "text/plain": [
              "[parts {\n",
              "   text: \"Qual a capital do Par\\303\\241?\"\n",
              " }\n",
              " role: \"user\",\n",
              " parts {\n",
              "   text: \"A capital do Par\\303\\241 \\303\\251 **Bel\\303\\251m**. \\n\"\n",
              " }\n",
              " role: \"model\",\n",
              " parts {\n",
              "   text: \"Qual a comida t\\303\\255pica desse estado?\"\n",
              " }\n",
              " role: \"user\",\n",
              " parts {\n",
              "   text: \"O Par\\303\\241 tem uma culin\\303\\241ria rica e diversa, influenciada por ind\\303\\255genas, portugueses e africanos. \\303\\211 dif\\303\\255cil escolher apenas uma comida t\\303\\255pica, mas algumas das mais famosas e deliciosas s\\303\\243o:\\n\\n**Pratos Principais:**\\n\\n* **Pato no Tucupi:**  Considerado o prato mais famoso, leva pato cozido em tucupi (caldo extra\\303\\255do da mandioca brava), jambu (erva amaz\\303\\264nica que causa leve dorm\\303\\252ncia na boca) e temperos.\\n* **Mani\\303\\247oba:** Cozido de folhas de mandioca mo\\303\\255das, acompanhado de carnes, embutidos e servido com arroz branco. \\303\\211 um prato tradicionalmente servido no C\\303\\255rio de Nazar\\303\\251.\\n* **Tacac\\303\\241:** Caldo quente feito com tucupi, goma de tapioca (goma de mandioca), camar\\303\\243o seco e jambu. Servido em cuias.\\n\\n**Petiscos e Acompanhamentos:**\\n\\n* **Farinha d\\'\\303\\241gua:** Farinha de mandioca fina e \\303\\272mida, usada para acompanhar diversos pratos.\\n* **Vatap\\303\\241 paraense:**  Feito com p\\303\\243o amanhecido, camar\\303\\243o seco, leite de coco, azeite de dend\\303\\252 e temperos. \\n* **Caranguejo:** Consumido de diversas formas, como no \\\"caranguejo tucupi\\\" ou simplesmente cozido e temperado.\\n\\n**Doces:**\\n\\n* **Doce de Cupua\\303\\247u:** Fruta t\\303\\255pica da regi\\303\\243o, o cupua\\303\\247u \\303\\251 usado em doces, sucos e sorvetes.\\n* **Doce de Bacuri:** Outra fruta regional, o bacuri tem sabor marcante e \\303\\251 usado em diversas sobremesas.\\n* **Bombocado:** Bolo feito com coco ralado, leite de coco, a\\303\\247\\303\\272car e manteiga.\\n\\nExperimente essas del\\303\\255cias e explore a culin\\303\\241ria paraense! \\360\\237\\207\\247\\360\\237\\207\\267\\360\\237\\230\\213 \\n\"\n",
              " }\n",
              " role: \"model\"]"
            ]
          },
          "metadata": {},
          "execution_count": 23
        }
      ]
    },
    {
      "cell_type": "code",
      "source": [
        "# Melhorando a visualização\n",
        "# Código disponível em https://ai.google.dev/tutorials/python_quickstart#import_packages\n",
        "\n",
        "# Importa bibliotecas para formatar o texto e exibir markdown\n",
        "import textwrap\n",
        "from IPython.display import display\n",
        "from IPython.display import Markdown\n",
        "\n",
        "# Define uma função para formatar o texto em markdown\n",
        "def to_markdown(text):\n",
        "  text = text.replace(\".\", \" *\")\n",
        "  return Markdown(textwrap.indent(text, \"> \", predicate=lambda _: True))\n",
        "\n",
        "# Imprime o histórico da conversa em markdown\n",
        "for message in chat.history:\n",
        "  display(to_markdown(f\"**{message.role}**: {message.parts[0].text}\"))\n",
        "  print(\"-----------------------------------------\")"
      ],
      "metadata": {
        "colab": {
          "base_uri": "https://localhost:8080/",
          "height": 588
        },
        "id": "jARf-sJFHMfA",
        "outputId": "a53dc0ec-db74-47b8-d51f-1b859b817eeb"
      },
      "execution_count": 25,
      "outputs": [
        {
          "output_type": "display_data",
          "data": {
            "text/plain": [
              "<IPython.core.display.Markdown object>"
            ],
            "text/markdown": "> **user**: Qual a capital do Pará?"
          },
          "metadata": {}
        },
        {
          "output_type": "stream",
          "name": "stdout",
          "text": [
            "-----------------------------------------\n"
          ]
        },
        {
          "output_type": "display_data",
          "data": {
            "text/plain": [
              "<IPython.core.display.Markdown object>"
            ],
            "text/markdown": "> **model**: A capital do Pará é **Belém** * \n"
          },
          "metadata": {}
        },
        {
          "output_type": "stream",
          "name": "stdout",
          "text": [
            "-----------------------------------------\n"
          ]
        },
        {
          "output_type": "display_data",
          "data": {
            "text/plain": [
              "<IPython.core.display.Markdown object>"
            ],
            "text/markdown": "> **user**: Qual a comida típica desse estado?"
          },
          "metadata": {}
        },
        {
          "output_type": "stream",
          "name": "stdout",
          "text": [
            "-----------------------------------------\n"
          ]
        },
        {
          "output_type": "display_data",
          "data": {
            "text/plain": [
              "<IPython.core.display.Markdown object>"
            ],
            "text/markdown": "> **model**: O Pará tem uma culinária rica e diversa, influenciada por indígenas, portugueses e africanos * É difícil escolher apenas uma comida típica, mas algumas das mais famosas e deliciosas são:\n> \n> **Pratos Principais:**\n> \n> * **Pato no Tucupi:**  Considerado o prato mais famoso, leva pato cozido em tucupi (caldo extraído da mandioca brava), jambu (erva amazônica que causa leve dormência na boca) e temperos *\n> * **Maniçoba:** Cozido de folhas de mandioca moídas, acompanhado de carnes, embutidos e servido com arroz branco * É um prato tradicionalmente servido no Círio de Nazaré *\n> * **Tacacá:** Caldo quente feito com tucupi, goma de tapioca (goma de mandioca), camarão seco e jambu * Servido em cuias *\n> \n> **Petiscos e Acompanhamentos:**\n> \n> * **Farinha d'água:** Farinha de mandioca fina e úmida, usada para acompanhar diversos pratos *\n> * **Vatapá paraense:**  Feito com pão amanhecido, camarão seco, leite de coco, azeite de dendê e temperos * \n> * **Caranguejo:** Consumido de diversas formas, como no \"caranguejo tucupi\" ou simplesmente cozido e temperado *\n> \n> **Doces:**\n> \n> * **Doce de Cupuaçu:** Fruta típica da região, o cupuaçu é usado em doces, sucos e sorvetes *\n> * **Doce de Bacuri:** Outra fruta regional, o bacuri tem sabor marcante e é usado em diversas sobremesas *\n> * **Bombocado:** Bolo feito com coco ralado, leite de coco, açúcar e manteiga *\n> \n> Experimente essas delícias e explore a culinária paraense! 🇧🇷😋 \n"
          },
          "metadata": {}
        },
        {
          "output_type": "stream",
          "name": "stdout",
          "text": [
            "-----------------------------------------\n"
          ]
        }
      ]
    }
  ]
}